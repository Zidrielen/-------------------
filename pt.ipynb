{
 "cells": [
  {
   "attachments": {},
   "cell_type": "markdown",
   "metadata": {},
   "source": [
    "Для этой расчётки я буду использовать ЯП <b>python</b>, а именно модуль для работы с табличными файлами <b>pandas</b> и модуль для построения графиков <b>matplotlib</b>"
   ]
  },
  {
   "cell_type": "code",
   "execution_count": 2,
   "metadata": {},
   "outputs": [],
   "source": [
    "import pandas as pd\n",
    "import matplotlib as mpl"
   ]
  },
  {
   "attachments": {},
   "cell_type": "markdown",
   "metadata": {},
   "source": [
    "Сначала загрузим данные из текстового файла <b>sample.txt</b>, с которым мы в дальнейшем будем работать"
   ]
  },
  {
   "cell_type": "code",
   "execution_count": null,
   "metadata": {},
   "outputs": [],
   "source": [
    "df_start = pd.read_csv(\"sample.txt\", sep=\" \", encoding=\"windows-1251\", header=None)\n",
    "sample = pd.DataFrame({\n",
    "    \"sample_elements\": df_start.iloc[:, 0]\n",
    "}).to_numpy().flatten()\n",
    "\n",
    "sample"
   ]
  },
  {
   "attachments": {},
   "cell_type": "markdown",
   "metadata": {},
   "source": [
    "Найдём старший и младший член вариационного ряда, а также размах выборки"
   ]
  },
  {
   "cell_type": "code",
   "execution_count": null,
   "metadata": {},
   "outputs": [],
   "source": [
    "min_ = sample.min()\n",
    "max_ = sample.max()\n",
    "print(\"Младший и старший член вариационнго \"\n",
    "      f\"ряда равны соответственно {min_} и {max_}\")\n",
    "\n",
    "print(f\"Размах выборки равен {max_ - min_}\")"
   ]
  },
  {
   "attachments": {},
   "cell_type": "markdown",
   "metadata": {},
   "source": [
    "Найдём эмпирические моменты выборки (выборочное мат. ожидание и дисперсию)"
   ]
  },
  {
   "cell_type": "code",
   "execution_count": null,
   "metadata": {},
   "outputs": [],
   "source": [
    "ex_val = sample.sum() / sample.size\n",
    "print(f\"Выборочное мат. ожидание равно {ex_val}\")\n",
    "\n",
    "sum_ = 0\n",
    "for i in range(sample.size):\n",
    "    sum_ = sum_ + sample[i] ** 2\n",
    "\n",
    "print(f\"Выборочная дисперсия равна {sum_ / sample.size - ex_val ** 2}\")"
   ]
  },
  {
   "attachments": {},
   "cell_type": "markdown",
   "metadata": {},
   "source": [
    "Проведём оценку плотности. Сначала отсортируем массив и разделим его на 5 интервалов с длинной, примерно равной 1 (где-то чуть больше, а где-то чуть меньше). Затем вручную посчитаем частоту и значение гистограммы (частота / длина интервала)."
   ]
  },
  {
   "cell_type": "code",
   "execution_count": null,
   "metadata": {},
   "outputs": [],
   "source": [
    "sample.sort(axis=-1)\n",
    "sample"
   ]
  },
  {
   "attachments": {},
   "cell_type": "markdown",
   "metadata": {},
   "source": [
    "Далее построим гистограмму и полигон частот выборки"
   ]
  },
  {
   "cell_type": "code",
   "execution_count": null,
   "metadata": {},
   "outputs": [],
   "source": [
    "list_1 = list(-1.43655, -0.336759, 0.667734, 1.64962, 2.64979, 3.59839)\n",
    "list_2 = list(0.04546, 0.19910, 0.37683, 0.26995, 0.11596)\n"
   ]
  }
 ],
 "metadata": {
  "kernelspec": {
   "display_name": ".venv",
   "language": "python",
   "name": "python3"
  },
  "language_info": {
   "codemirror_mode": {
    "name": "ipython",
    "version": 3
   },
   "file_extension": ".py",
   "mimetype": "text/x-python",
   "name": "python",
   "nbconvert_exporter": "python",
   "pygments_lexer": "ipython3",
   "version": "3.10.2"
  },
  "orig_nbformat": 4
 },
 "nbformat": 4,
 "nbformat_minor": 2
}
