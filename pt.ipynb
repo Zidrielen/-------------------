{
 "cells": [
  {
   "attachments": {},
   "cell_type": "markdown",
   "metadata": {},
   "source": [
    "Для этой расчётки я буду использовать ЯП <b>python</b>, а именно модуль для работы с табличными файлами <b>pandas</b>"
   ]
  },
  {
   "cell_type": "code",
   "execution_count": 10,
   "metadata": {},
   "outputs": [],
   "source": [
    "import pandas as pd"
   ]
  },
  {
   "attachments": {},
   "cell_type": "markdown",
   "metadata": {},
   "source": [
    "Сначала загрузим данные из текстового файла <b>sample.txt</b>, с которым мы в дальнейшем будем работать"
   ]
  },
  {
   "cell_type": "code",
   "execution_count": null,
   "metadata": {},
   "outputs": [],
   "source": [
    "df_start = pd.read_csv(\"sample.txt\", sep=\" \", encoding=\"windows-1251\", header=None)\n",
    "sample = pd.DataFrame({\n",
    "    \"sample_elements\": df_start.iloc[:, 0]\n",
    "}).to_numpy().flatten()\n",
    "\n",
    "sample"
   ]
  },
  {
   "attachments": {},
   "cell_type": "markdown",
   "metadata": {},
   "source": [
    "Найдём старший и младший член вариационного ряда, а также размах выборки"
   ]
  },
  {
   "cell_type": "code",
   "execution_count": null,
   "metadata": {},
   "outputs": [],
   "source": [
    "min_ = sample.min()\n",
    "max_ = sample.max()\n",
    "print(\"Младший и старший член вариационнго \"\n",
    "      f\"ряда равны соответственно {min_} и {max_}\")\n",
    "\n",
    "print(f\"Размах выборки равен {max_ - min_}\")"
   ]
  },
  {
   "attachments": {},
   "cell_type": "markdown",
   "metadata": {},
   "source": [
    "Найдём эмпирические моменты выборки (выборочное мат. ожидание и дисперсию)"
   ]
  },
  {
   "cell_type": "code",
   "execution_count": null,
   "metadata": {},
   "outputs": [],
   "source": [
    "ex_val = sample.sum() / sample.size\n",
    "print(f\"Выборочное мат. ожидание равно {ex_val}\")\n",
    "\n",
    "sum_ = 0\n",
    "for i in range(sample.size):\n",
    "    sum_ = sum_ + sample[i] ** 2\n",
    "\n",
    "print(f\"Выборочная дисперсия равна {sum_ / sample.size - ex_val ** 2}\")"
   ]
  },
  {
   "attachments": {},
   "cell_type": "markdown",
   "metadata": {},
   "source": [
    "Проведём оценку плотности. Сначала отсортируем массив и разделим его на 5 интервалов с длинной, примерно равной 1 (где-то чуть больше, а где-то чуть меньше). Затем вручную посчитаем частоту и значение гистограммы (частота / длина интервала)."
   ]
  },
  {
   "cell_type": "code",
   "execution_count": null,
   "metadata": {},
   "outputs": [],
   "source": [
    "sample.sort(axis=-1)\n",
    "sample"
   ]
  },
  {
   "attachments": {},
   "cell_type": "markdown",
   "metadata": {},
   "source": [
    "Для расчёта по формуле для критерия хи-квадрат Пирсона посчитаем статистику критерия. Его значение сравним с критическим значением, которое возьмём из таблицы квантилей распределения хи-квадрат. Если статистика критерия меньше, чем критическое значение, гипотеза принимается, если больше, то отвергается."
   ]
  },
  {
   "cell_type": "code",
   "execution_count": 3,
   "metadata": {},
   "outputs": [
    {
     "name": "stdout",
     "output_type": "stream",
     "text": [
      "Статистика критерия равна 1.0028293778136828\n"
     ]
    }
   ],
   "source": [
    "list_1 = list([0.05, 0.20, 0.37, 0.27, 0.11])\n",
    "list_2 = list([0.055, 0.2149, 0.3625, 0.2664, 0.0836])\n",
    "\n",
    "crit_stat = 0\n",
    "for i in range(len(list_1)):\n",
    "    crit_stat = crit_stat + ((list_1[i] - list_2[i]) ** 2) / list_2[i]\n",
    "print(f\"Статистика критерия равна {crit_stat * 100}\")"
   ]
  },
  {
   "attachments": {},
   "cell_type": "markdown",
   "metadata": {},
   "source": [
    "Теперь сделаем то же самое, но увеличим дисперсию в 10 раз."
   ]
  },
  {
   "cell_type": "code",
   "execution_count": 4,
   "metadata": {},
   "outputs": [
    {
     "name": "stdout",
     "output_type": "stream",
     "text": [
      "Статистика критерия равна 82.67620417229232\n"
     ]
    }
   ],
   "source": [
    "list_1 = list([0.05, 0.20, 0.37, 0.27, 0.11])\n",
    "list_2 = list([0.1052, 0.1162, 0.1191, 0.1153, 0.0989])\n",
    "\n",
    "crit_stat = 0\n",
    "for i in range(len(list_1)):\n",
    "    crit_stat = crit_stat + ((list_1[i] - list_2[i]) ** 2) / list_2[i]\n",
    "print(f\"Статистика критерия равна {crit_stat * 100}\")"
   ]
  }
 ],
 "metadata": {
  "kernelspec": {
   "display_name": ".venv",
   "language": "python",
   "name": "python3"
  },
  "language_info": {
   "codemirror_mode": {
    "name": "ipython",
    "version": 3
   },
   "file_extension": ".py",
   "mimetype": "text/x-python",
   "name": "python",
   "nbconvert_exporter": "python",
   "pygments_lexer": "ipython3",
   "version": "3.10.2"
  },
  "orig_nbformat": 4
 },
 "nbformat": 4,
 "nbformat_minor": 2
}
